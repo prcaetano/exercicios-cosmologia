{
 "cells": [
  {
   "cell_type": "markdown",
   "metadata": {},
   "source": [
    "# Exercício 5: BAO, 1o pico da CMB e distância angular"
   ]
  },
  {
   "cell_type": "markdown",
   "metadata": {},
   "source": [
    "## Carregando os dados"
   ]
  },
  {
   "cell_type": "code",
   "execution_count": 1,
   "metadata": {},
   "outputs": [],
   "source": [
    "import corner\n",
    "import emcee\n",
    "import numpy as np\n",
    "import matplotlib.pyplot as plt\n",
    "import scipy.constants as cte\n",
    "from scipy.integrate import quad\n",
    "from scipy.optimize import minimize, brentq\n",
    "\n",
    "%matplotlib inline"
   ]
  },
  {
   "cell_type": "code",
   "execution_count": 2,
   "metadata": {},
   "outputs": [],
   "source": [
    "# Load BAO data\n",
    "file = \"theta_bao.dat\"\n",
    "\n",
    "z_bao, theta_deg, err_theta_deg = np.loadtxt(file, unpack=True)\n",
    "\n",
    "theta_bao = theta_deg * np.pi / 180.\n",
    "err_theta_bao = err_theta_deg * np.pi / 180."
   ]
  },
  {
   "cell_type": "code",
   "execution_count": 3,
   "metadata": {},
   "outputs": [],
   "source": [
    "# Add first peak of CMB\n",
    "l_cmb = 302.\n",
    "err_l_cmb = 0.2\n",
    "z_ls = 1090.\n",
    "\n",
    "theta_cmb = np.pi / l_cmb\n",
    "err_theta_cmb = err_l_cmb / l_cmb * theta_cmb"
   ]
  },
  {
   "cell_type": "code",
   "execution_count": 4,
   "metadata": {},
   "outputs": [
    {
     "data": {
      "image/png": "[encoded data removed]",
      "text/plain": [
       "<Figure size 432x288 with 1 Axes>"
      ]
     },
     "metadata": {},
     "output_type": "display_data"
    }
   ],
   "source": [
    "# Check plot\n",
    "plt.xscale(\"log\")\n",
    "plt.ylabel(r\"$\\Theta$\")\n",
    "plt.xlabel(r\"$z$\")\n",
    "plt.errorbar(z_bao, theta_bao, err_theta_bao, fmt=\"b.\", label=\"BAO\")\n",
    "plt.errorbar(z_ls, theta_cmb, err_theta_cmb, fmt=\"r.\", label=\"CMB\")\n",
    "plt.legend();"
   ]
  },
  {
   "cell_type": "markdown",
   "metadata": {},
   "source": [
    "## Modelando $\\Theta_{BAO}$ e $\\Theta_{CMB}$"
   ]
  },
  {
   "cell_type": "code",
   "execution_count": 5,
   "metadata": {},
   "outputs": [],
   "source": [
    "def E_inverse(z, omgM, omgR):\n",
    "    Ez = np.sqrt((1 - omgM) + omgM * np.power(1 + z, 3) + omgR * np.power(1 + z, 4))\n",
    "    return 1. / Ez\n",
    "\n",
    "def sound_horizon_integrand(z, omgM, omgR, omgB, omgG):\n",
    "    cs = np.power(3 + 9./4 * omgB / (omgG * z), -0.5)\n",
    "    return cs * E_inverse(z, omgM, omgR)\n",
    "\n",
    "def sound_horizon(z_star, omgM, omgR, omgB, omgG):\n",
    "    integral, _ = quad(sound_horizon_integrand, z_star, np.inf, args=(omgM, omgR, omgB, omgG))\n",
    "    return integral\n",
    "\n",
    "def angular_distance(z, omgM, omgR):\n",
    "    integral, _ = quad(E_inverse, 0, z, args=(omgM, omgR))\n",
    "    return integral\n",
    "\n",
    "def theta_model(z, z_star, omgM, omgR, omgB, omgG):\n",
    "    return sound_horizon(z_star, omgM, omgR, omgB, omgG) / angular_distance(z, omgM, omgR)\n",
    "\n",
    "def chisq_cmb(omgM, omgR, omgB, omgG):\n",
    "    z_star_cmb = 1090\n",
    "    theta_cmb_model = theta_model(z_ls, z_star_cmb, omgM, omgR, omgB, omgG)\n",
    "    chisq = np.power( (theta_cmb_model - theta_cmb) / err_theta_cmb, 2 )\n",
    "    return chisq\n",
    "\n",
    "def chisq_bao(omgM, omgR, omgB, omgG):\n",
    "    z_star_bao = 1060\n",
    "    theta_bao_model = np.array([theta_model(z, z_star_bao, omgM, omgR, omgB, omgG) for z in z_bao])\n",
    "    chisq = np.sum( np.power( (theta_bao_model - theta_bao) / err_theta_bao, 2 ) )\n",
    "    return chisq\n",
    "\n",
    "def chisq_all(omgM, omgR, omgB, omgG):\n",
    "    chisq = chisq_cmb(omgM, omgR, omgB, omgG) + \\\n",
    "            chisq_bao(omgM, omgR, omgB, omgG)\n",
    "    return chisq"
   ]
  },
  {
   "cell_type": "code",
   "execution_count": 6,
   "metadata": {},
   "outputs": [],
   "source": [
    "# Fiducial parameters\n",
    "omgB_fid = 0.05\n",
    "omgG_fid = 5e-5\n",
    "omgR_fid = 8.4e-5\n",
    "omgM_fid = 0.3"
   ]
  },
  {
   "cell_type": "markdown",
   "metadata": {},
   "source": [
    "## Soluções de máxima verossimilhança"
   ]
  },
  {
   "cell_type": "markdown",
   "metadata": {},
   "source": [
    "#### Apenas CMB"
   ]
  },
  {
   "cell_type": "code",
   "execution_count": 7,
   "metadata": {},
   "outputs": [
    {
     "name": "stdout",
     "output_type": "stream",
     "text": [
      "Convergiu?:  True\n",
      "chisq =  1.4210560088881748e-11\n",
      "omegaM =  0.2890148111119692\n"
     ]
    }
   ],
   "source": [
    "# CMB only\n",
    "chisq_vec_cmb = np.vectorize(lambda omgM: chisq_cmb(omgM, omgR_fid, omgB_fid, omgG_fid))\n",
    "result_omgM_cmb = minimize(chisq_vec_cmb, omgM_fid, bounds=[(0.01, 1.)])\n",
    "omgM_best_cmb, = result_omgM_cmb.x\n",
    "min_chisq_cmb, = result_omgM_cmb.fun\n",
    "print(\"Convergiu?: \", result_omgM_cmb.success)\n",
    "print(\"chisq = \", min_chisq_cmb)\n",
    "print(\"omegaM = \", omgM_best_cmb)"
   ]
  },
  {
   "cell_type": "markdown",
   "metadata": {},
   "source": [
    "#### Apenas BAO"
   ]
  },
  {
   "cell_type": "code",
   "execution_count": 8,
   "metadata": {},
   "outputs": [
    {
     "name": "stdout",
     "output_type": "stream",
     "text": [
      "Convergiu?:  True\n",
      "chisq/dof =  1.155667421789302\n",
      "omegaM =  0.2107731725723369\n"
     ]
    }
   ],
   "source": [
    "# BAO only\n",
    "chisq_vec_bao = np.vectorize(lambda omgM: chisq_bao(omgM, omgR_fid, omgB_fid, omgG_fid))\n",
    "result_omgM_bao = minimize(chisq_vec_bao, omgM_fid, bounds=[(0.01, 1.)])\n",
    "omgM_best_bao, = result_omgM_bao.x\n",
    "min_chisq_bao, = result_omgM_bao.fun\n",
    "print(\"Convergiu?: \", result_omgM_bao.success)\n",
    "print(\"chisq/dof = \", min_chisq_bao / (len(z_bao) - 1))\n",
    "print(\"omegaM = \", omgM_best_bao)"
   ]
  },
  {
   "cell_type": "markdown",
   "metadata": {},
   "source": [
    "#### Ambos"
   ]
  },
  {
   "cell_type": "code",
   "execution_count": 9,
   "metadata": {},
   "outputs": [
    {
     "name": "stdout",
     "output_type": "stream",
     "text": [
      "Convergiu?:  True\n",
      "chisq / dof =  2.1676501428759396\n",
      "omegaM =  0.28873892477373475\n"
     ]
    }
   ],
   "source": [
    "# CMB + BAO\n",
    "chisq_vec_all = np.vectorize(lambda omgM: chisq_all(omgM, omgR_fid, omgB_fid, omgG_fid))\n",
    "result_omgM = minimize(chisq_vec_all, omgM_fid, bounds=[(0.01, 1.)])\n",
    "omgM_best, = result_omgM.x\n",
    "min_chisq_cmb, = result_omgM.fun\n",
    "print(\"Convergiu?: \", result_omgM.success)\n",
    "print(\"chisq / dof = \", min_chisq_cmb / len(z_bao))\n",
    "print(\"omegaM = \", omgM_best)"
   ]
  },
  {
   "cell_type": "code",
   "execution_count": 10,
   "metadata": {},
   "outputs": [
    {
     "data": {
      "image/png": "[encoded data removed]",
      "text/plain": [
       "<Figure size 432x288 with 1 Axes>"
      ]
     },
     "metadata": {},
     "output_type": "display_data"
    }
   ],
   "source": [
    "zs = np.linspace(z_bao.min(), z_bao.max(), 1000)\n",
    "thetas_best_cmb = np.array([theta_model(z, 1060, omgM_best_cmb, omgR_fid, omgB_fid, omgG_fid) for z in zs])\n",
    "thetas_best_bao = np.array([theta_model(z, 1060, omgM_best_bao, omgR_fid, omgB_fid, omgG_fid) for z in zs])\n",
    "thetas_best = np.array([theta_model(z, 1060, omgM_best, omgR_fid, omgB_fid, omgG_fid) for z in zs])\n",
    "#theta_cmb_cmb = theta_model(z_ls, 1090, omgM_best_cmb, omgR_fid, omgB_fid, omgG_fid)\n",
    "#theta_cmb_cmb = theta_model(z_ls, 1090, omgM_best_cmb, omgR_fid, omgB_fid, omgG_fid)\n",
    "\n",
    "plt.xscale(\"log\")\n",
    "plt.ylabel(r\"$\\Theta$\")\n",
    "plt.xlabel(r\"$z$\")\n",
    "plt.errorbar(z_bao, theta_bao, err_theta_bao, fmt=\"b.\", label=\"BAO\")\n",
    "#plt.errorbar(z_ls, theta_cmb, err_theta_cmb, fmt=\"r.\", label=\"CMB\")\n",
    "plt.plot(zs, thetas_best_bao, \"y\", label=\"BAO fit\")\n",
    "plt.plot(zs, thetas_best_cmb, \"g\", label=\"CMB fit\")\n",
    "plt.plot(zs, thetas_best, \"r\", label=\"BAO+CMB fit\")\n",
    "plt.legend();"
   ]
  },
  {
   "cell_type": "markdown",
   "metadata": {},
   "source": [
    "## Probabilidades a posteriori"
   ]
  },
  {
   "cell_type": "markdown",
   "metadata": {},
   "source": [
    "### Apenas CMB"
   ]
  },
  {
   "cell_type": "code",
   "execution_count": 11,
   "metadata": {},
   "outputs": [],
   "source": [
    "# Functions for priors and loglikelihoods\n",
    "def lnprior_cmb(pars):\n",
    "    omgM, = pars\n",
    "    if 0.0 < omgM < 1.0:\n",
    "        return 0.0\n",
    "    return -np.inf\n",
    "\n",
    "def lnlike_cmb(pars):\n",
    "    omgM, = pars\n",
    "    return -0.5 * chisq_cmb(omgM, omgR_fid, omgB_fid, omgG_fid)\n",
    "\n",
    "def lnprob_cmb(pars):\n",
    "    lp = lnprior_cmb(pars)\n",
    "    if not np.isfinite(lp):\n",
    "        return -np.inf\n",
    "    return lp + lnlike_cmb(pars)"
   ]
  },
  {
   "cell_type": "code",
   "execution_count": 12,
   "metadata": {},
   "outputs": [
    {
     "name": "stdout",
     "output_type": "stream",
     "text": [
      "omegaM =  0.2890221756567422 (- 0.0012663424053946937 )(+ 0.0012736210420026262 )\n"
     ]
    }
   ],
   "source": [
    "max_loglikelihood = lnprob_cmb([omgM_best_cmb])\n",
    "def integral_like(oM):\n",
    "    # multiply by np.exp(-lnprob_cmb([omgM_best_cmb])) to prevent numerical instability\n",
    "    integral, _ = quad(lambda x: np.exp(lnprob_cmb([x]) - max_loglikelihood), 0, oM)\n",
    "    return integral\n",
    "\n",
    "# by omgM ~ 0.4 likelihood is already 0\n",
    "\n",
    "total_int = integral_like(0.4)\n",
    "\n",
    "# gets p percentile of posterior distribution\n",
    "def omgM_percentile(p):\n",
    "    perc = brentq(lambda x: integral_like(x) - p*total_int, 0., 0.4)\n",
    "    return perc\n",
    "\n",
    "omegaM_16, omegaM_50, omegaM_84 = omgM_percentile(0.16), omgM_percentile(0.5), omgM_percentile(0.84)\n",
    "print(\"omegaM = \", omegaM_50, \"(-\", omegaM_50 - omegaM_16, \")(+\", omegaM_84 - omegaM_50, \")\")"
   ]
  },
  {
   "cell_type": "code",
   "execution_count": 13,
   "metadata": {},
   "outputs": [
    {
     "data": {
      "image/png": "[encoded data removed]",
      "text/plain": [
       "<Figure size 432x288 with 1 Axes>"
      ]
     },
     "metadata": {},
     "output_type": "display_data"
    }
   ],
   "source": [
    "omgMs = np.linspace(0.28, 0.30, 100)\n",
    "likelihoods = np.exp([lnprob_cmb([x]) for x in omgMs])\n",
    "\n",
    "plt.xlabel(r\"$\\Omega_{m}$\")\n",
    "plt.ylabel(r\"Posterior probability\")\n",
    "plt.xlim([0.28, 0.30])\n",
    "plt.plot(omgMs, likelihoods)\n",
    "plt.axvline(x=omegaM_16, linestyle=\"dashed\", color=\"red\")\n",
    "plt.axvline(x=omegaM_84, linestyle=\"dashed\", color=\"red\")\n",
    "plt.axvline(x=omegaM_50, color=\"red\");"
   ]
  },
  {
   "cell_type": "markdown",
   "metadata": {},
   "source": [
    "$\\Omega_m = 0.2890^{+0.0013}_{-0.0013}$"
   ]
  },
  {
   "cell_type": "markdown",
   "metadata": {},
   "source": [
    "### Apenas BAO (flat prior)"
   ]
  },
  {
   "cell_type": "code",
   "execution_count": 14,
   "metadata": {},
   "outputs": [],
   "source": [
    "# Functions for priors and loglikelihoods\n",
    "def lnprior_bao(pars):\n",
    "    omgM, = pars\n",
    "    if 0.0 < omgM < 1.0:\n",
    "        return 0.0\n",
    "    return -np.inf\n",
    "\n",
    "def lnlike_bao(pars):\n",
    "    omgM, = pars\n",
    "    return -0.5 * chisq_bao(omgM, omgR_fid, omgB_fid, omgG_fid)\n",
    "\n",
    "def lnprob_bao(pars):\n",
    "    lp = lnprior_bao(pars)\n",
    "    if not np.isfinite(lp):\n",
    "        return -np.inf\n",
    "    return lp + lnlike_bao(pars)"
   ]
  },
  {
   "cell_type": "code",
   "execution_count": 15,
   "metadata": {},
   "outputs": [
    {
     "name": "stdout",
     "output_type": "stream",
     "text": [
      "omegaM =  0.2120122245023539 (- 0.01661679027645227 )(+ 0.017848306530959812 )\n"
     ]
    }
   ],
   "source": [
    "max_loglikelihood = lnprob_bao([omgM_best_bao])\n",
    "def integral_like(oM):\n",
    "    # multiply by np.exp(-lnprob_bao([omgM_best_bao])) to prevent numerical instability\n",
    "    integral, _ = quad(lambda x: np.exp(lnprob_bao([x]) - max_loglikelihood), 0, oM)\n",
    "    return integral\n",
    "\n",
    "# by omgM 1.0 posterior is 0\n",
    "\n",
    "total_int = integral_like(1.0)\n",
    "\n",
    "# gets p percentile of posterior distribution\n",
    "def omgM_percentile(p):\n",
    "    perc = brentq(lambda x: integral_like(x) - p*total_int, 0.1, 1.0)\n",
    "    return perc\n",
    "\n",
    "omegaM_16, omegaM_50, omegaM_84 = omgM_percentile(0.16), omgM_percentile(0.5), omgM_percentile(0.84)\n",
    "print(\"omegaM = \", omegaM_50, \"(-\", omegaM_50 - omegaM_16, \")(+\", omegaM_84 - omegaM_50, \")\")"
   ]
  },
  {
   "cell_type": "code",
   "execution_count": 16,
   "metadata": {},
   "outputs": [
    {
     "data": {
      "image/png": "[encoded data removed]",
      "text/plain": [
       "<Figure size 432x288 with 1 Axes>"
      ]
     },
     "metadata": {},
     "output_type": "display_data"
    }
   ],
   "source": [
    "omgMs = np.linspace(0.00, 1.5, 100)\n",
    "posterior = np.exp([lnprob_bao([x]) for x in omgMs])\n",
    "\n",
    "plt.xlabel(r\"$\\Omega_{m}$\")\n",
    "plt.ylabel(r\"Posterior probability\")\n",
    "plt.xlim([0.0, 1.5])\n",
    "plt.plot(omgMs, posterior, label=\"Posterior\")\n",
    "plt.axvline(x=omegaM_16, linestyle=\"dashed\", color=\"red\")\n",
    "plt.axvline(x=omegaM_84, linestyle=\"dashed\", color=\"red\", label=r\"2$\\sigma$ percentil\")\n",
    "plt.axvline(x=omegaM_50, color=\"red\", label=\"Median\")\n",
    "plt.legend();"
   ]
  },
  {
   "cell_type": "markdown",
   "metadata": {},
   "source": [
    "$\\Omega_{m} = 0.21^{+0.02}_{-0.02}$"
   ]
  },
  {
   "cell_type": "markdown",
   "metadata": {},
   "source": [
    "### BAO + CMB"
   ]
  },
  {
   "cell_type": "code",
   "execution_count": 17,
   "metadata": {},
   "outputs": [],
   "source": [
    "# Prior for BAO + CMB (flat)\n",
    "def lnprior_all(pars):\n",
    "    omgM, = pars\n",
    "    if 0.0 < omgM < 1.0:\n",
    "        return 0.0\n",
    "    return -np.inf\n",
    "\n",
    "# Log likelihood for BAO + CMB\n",
    "def lnlike_all(pars):\n",
    "    omgM, = pars\n",
    "    return -0.5 * chisq_all(omgM, omgR_fid, omgB_fid, omgG_fid)\n",
    "\n",
    "# Log posterior for BAO + CMB\n",
    "def lnprob_all(pars):\n",
    "    lp = lnprior_all(pars)\n",
    "    if not np.isfinite(lp):\n",
    "        return -np.inf\n",
    "    return lp + lnlike_all(pars)\n"
   ]
  },
  {
   "cell_type": "code",
   "execution_count": 18,
   "metadata": {},
   "outputs": [
    {
     "name": "stdout",
     "output_type": "stream",
     "text": [
      "omegaM =  0.2887462464120079 (- 0.0012626521320152628 )(+ 0.6923925666249553 )\n"
     ]
    }
   ],
   "source": [
    "max_loglikelihood = lnprob_all([omgM_best])\n",
    "def integral_like(oM):\n",
    "    # multiply by np.exp(-lnprob_all([omgM_best])) to prevent numerical instability\n",
    "    integral, _ = quad(lambda x: np.exp(lnprob_all([x]) - max_loglikelihood), 0, oM)\n",
    "    return integral\n",
    "\n",
    "# by omgM 1.0 posterior is 0\n",
    "\n",
    "total_int = integral_like(1.0)\n",
    "\n",
    "# gets p percentile of posterior distribution\n",
    "def omgM_percentile(p):\n",
    "    perc = brentq(lambda x: integral_like(x) - p*total_int, 0.1, 1.0)\n",
    "    return perc\n",
    "\n",
    "omegaM_16, omegaM_50, omegaM_84 = omgM_percentile(0.16), omgM_percentile(0.5), omgM_percentile(0.84)\n",
    "print(\"omegaM = \", omegaM_50, \"(-\", omegaM_50 - omegaM_16, \")(+\", omegaM_84 - omegaM_50, \")\")"
   ]
  },
  {
   "cell_type": "code",
   "execution_count": 28,
   "metadata": {},
   "outputs": [
    {
     "data": {
      "image/png": "[encoded data removed]",
      "text/plain": [
       "<Figure size 432x288 with 1 Axes>"
      ]
     },
     "metadata": {},
     "output_type": "display_data"
    }
   ],
   "source": [
    "omgMs = np.linspace(0.28, 0.30, 100)\n",
    "\n",
    "posterior_all = np.exp([lnprob_all([x]) for x in omgMs])\n",
    "posterior_cmb = np.exp([lnprob_cmb([x]) for x in omgMs])\n",
    "posterior_bao = np.exp([lnprob_bao([x]) for x in omgMs])\n",
    "\n",
    "plt.xlabel(r\"$\\Omega_{m}$\")\n",
    "plt.ylabel(r\"Posterior probability\")\n",
    "plt.xlim([0.20, 0.30])\n",
    "\n",
    "plt.plot(omgMs, posterior_all/posterior_all.max(), label=\"Posterior BAO+CMB\")\n",
    "plt.plot(omgMs, posterior_cmb/posterior_cmb.max(), label=\"Posterior CMB\")\n",
    "plt.plot(omgMs, posterior_bao/posterior_bao.max(), label=\"Posterior BAO\")\n",
    "\n",
    "plt.legend();"
   ]
  },
  {
   "cell_type": "code",
   "execution_count": null,
   "metadata": {},
   "outputs": [],
   "source": []
  }
 ],
 "metadata": {
  "kernelspec": {
   "display_name": "Python 3",
   "language": "python",
   "name": "python3"
  },
  "language_info": {
   "codemirror_mode": {
    "name": "ipython",
    "version": 3
   },
   "file_extension": ".py",
   "mimetype": "text/x-python",
   "name": "python",
   "nbconvert_exporter": "python",
   "pygments_lexer": "ipython3",
   "version": "3.5.3"
  }
 },
 "nbformat": 4,
 "nbformat_minor": 2
}
